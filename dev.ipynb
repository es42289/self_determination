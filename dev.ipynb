{
 "cells": [
  {
   "cell_type": "code",
   "execution_count": 7,
   "metadata": {},
   "outputs": [
    {
     "data": {
      "text/plain": [
       "['$2b$12$mJpz1YsWzdHadQ3c3BOfv.Nztv64aIHW2KKwmvV/TTF/WgFfU8WGK']"
      ]
     },
     "execution_count": 7,
     "metadata": {},
     "output_type": "execute_result"
    }
   ],
   "source": [
    "import streamlit_authenticator as stauth\n",
    "hashed_passwords = stauth.Hasher(['1234']).generate()\n",
    "hashed_passwords"
   ]
  },
  {
   "cell_type": "code",
   "execution_count": 2,
   "metadata": {},
   "outputs": [],
   "source": [
    "import pandas as pd\n",
    "user_log = pd.DataFrame({\n",
    "    'username':['eskeans','abaechle','jbisha'], \n",
    "    'email':['es42289@gmail.com','aaronmbaechle@gmail.com','jenny.bisha@gmail.com'], \n",
    "    'name':['Elii Skeans','Aaron Baechle','Jenny Bisha'], \n",
    "    'password':['$2b$12$mJpz1YsWzdHadQ3c3BOfv.Nztv64aIHW2KKwmvV/TTF/WgFfU8WGK','$2b$12$mJpz1YsWzdHadQ3c3BOfv.Nztv64aIHW2KKwmvV/TTF/WgFfU8WGK','$2b$12$mJpz1YsWzdHadQ3c3BOfv.Nztv64aIHW2KKwmvV/TTF/WgFfU8WGK']})\n",
    "user_log.to_feather('user_log.feather')"
   ]
  },
  {
   "cell_type": "code",
   "execution_count": 3,
   "metadata": {},
   "outputs": [
    {
     "data": {
      "text/html": [
       "<div>\n",
       "<style scoped>\n",
       "    .dataframe tbody tr th:only-of-type {\n",
       "        vertical-align: middle;\n",
       "    }\n",
       "\n",
       "    .dataframe tbody tr th {\n",
       "        vertical-align: top;\n",
       "    }\n",
       "\n",
       "    .dataframe thead th {\n",
       "        text-align: right;\n",
       "    }\n",
       "</style>\n",
       "<table border=\"1\" class=\"dataframe\">\n",
       "  <thead>\n",
       "    <tr style=\"text-align: right;\">\n",
       "      <th></th>\n",
       "      <th>username</th>\n",
       "      <th>email</th>\n",
       "      <th>name</th>\n",
       "      <th>password</th>\n",
       "    </tr>\n",
       "  </thead>\n",
       "  <tbody>\n",
       "    <tr>\n",
       "      <th>0</th>\n",
       "      <td>eskeans</td>\n",
       "      <td>es42289@gmail.com</td>\n",
       "      <td>Elii Skeans</td>\n",
       "      <td>$2b$12$mJpz1YsWzdHadQ3c3BOfv.Nztv64aIHW2KKwmvV...</td>\n",
       "    </tr>\n",
       "    <tr>\n",
       "      <th>1</th>\n",
       "      <td>abaechle</td>\n",
       "      <td>aaronmbaechle@gmail.com</td>\n",
       "      <td>Aaron Baechle</td>\n",
       "      <td>$2b$12$mJpz1YsWzdHadQ3c3BOfv.Nztv64aIHW2KKwmvV...</td>\n",
       "    </tr>\n",
       "    <tr>\n",
       "      <th>2</th>\n",
       "      <td>jbisha</td>\n",
       "      <td>jenny.bisha@gmail.com</td>\n",
       "      <td>Jenny Bisha</td>\n",
       "      <td>$2b$12$mJpz1YsWzdHadQ3c3BOfv.Nztv64aIHW2KKwmvV...</td>\n",
       "    </tr>\n",
       "  </tbody>\n",
       "</table>\n",
       "</div>"
      ],
      "text/plain": [
       "   username                    email           name  \\\n",
       "0   eskeans        es42289@gmail.com    Elii Skeans   \n",
       "1  abaechle  aaronmbaechle@gmail.com  Aaron Baechle   \n",
       "2    jbisha    jenny.bisha@gmail.com    Jenny Bisha   \n",
       "\n",
       "                                            password  \n",
       "0  $2b$12$mJpz1YsWzdHadQ3c3BOfv.Nztv64aIHW2KKwmvV...  \n",
       "1  $2b$12$mJpz1YsWzdHadQ3c3BOfv.Nztv64aIHW2KKwmvV...  \n",
       "2  $2b$12$mJpz1YsWzdHadQ3c3BOfv.Nztv64aIHW2KKwmvV...  "
      ]
     },
     "execution_count": 3,
     "metadata": {},
     "output_type": "execute_result"
    }
   ],
   "source": [
    "user_log = pd.read_feather('user_log.feather')\n",
    "user_log"
   ]
  },
  {
   "cell_type": "code",
   "execution_count": null,
   "metadata": {},
   "outputs": [],
   "source": []
  }
 ],
 "metadata": {
  "kernelspec": {
   "display_name": "base",
   "language": "python",
   "name": "python3"
  },
  "language_info": {
   "codemirror_mode": {
    "name": "ipython",
    "version": 3
   },
   "file_extension": ".py",
   "mimetype": "text/x-python",
   "name": "python",
   "nbconvert_exporter": "python",
   "pygments_lexer": "ipython3",
   "version": "3.10.9"
  }
 },
 "nbformat": 4,
 "nbformat_minor": 2
}
